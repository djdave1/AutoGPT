{
  "nbformat": 4,
  "nbformat_minor": 0,
  "metadata": {
    "colab": {
      "provenance": [],
      "include_colab_link": true
    },
    "kernelspec": {
      "name": "python3",
      "display_name": "Python 3"
    },
    "language_info": {
      "name": "python"
    }
  },
  "cells": [
    {
      "cell_type": "markdown",
      "metadata": {
        "id": "view-in-github",
        "colab_type": "text"
      },
      "source": [
        "<a href=\"https://colab.research.google.com/github/djdave1/AutoGPT/blob/master/m03_google_colab.ipynb\" target=\"_parent\"><img src=\"https://colab.research.google.com/assets/colab-badge.svg\" alt=\"Open In Colab\"/></a>"
      ]
    },
    {
      "cell_type": "markdown",
      "source": [
        "# [colab.research.google.com](https://colab.research.google.com/)"
      ],
      "metadata": {
        "id": "r9s67SfwX4IN"
      }
    },
    {
      "cell_type": "code",
      "source": [
        "# Install the OpenAI library\n",
        "!pip install -q openai"
      ],
      "metadata": {
        "id": "VnWlAvQs9lli",
        "colab": {
          "base_uri": "https://localhost:8080/"
        },
        "outputId": "ba345c07-d27c-48ec-98c7-5ec1a6739806"
      },
      "execution_count": null,
      "outputs": [
        {
          "output_type": "stream",
          "name": "stdout",
          "text": [
            "\u001b[?25l   \u001b[90m━━━━━━━━━━━━━━━━━━━━━━━━━━━━━━━━━━━━━━━━\u001b[0m \u001b[32m0.0/375.6 kB\u001b[0m \u001b[31m?\u001b[0m eta \u001b[36m-:--:--\u001b[0m\r\u001b[2K   \u001b[91m━━━━━━━━━━━━━━━━━━━━━━━━━━━━━━━━━━━━━━━\u001b[0m\u001b[90m╺\u001b[0m \u001b[32m368.6/375.6 kB\u001b[0m \u001b[31m20.2 MB/s\u001b[0m eta \u001b[36m0:00:01\u001b[0m\r\u001b[2K   \u001b[90m━━━━━━━━━━━━━━━━━━━━━━━━━━━━━━━━━━━━━━━━\u001b[0m \u001b[32m375.6/375.6 kB\u001b[0m \u001b[31m7.7 MB/s\u001b[0m eta \u001b[36m0:00:00\u001b[0m\n",
            "\u001b[2K   \u001b[90m━━━━━━━━━━━━━━━━━━━━━━━━━━━━━━━━━━━━━━━━\u001b[0m \u001b[32m76.4/76.4 kB\u001b[0m \u001b[31m3.9 MB/s\u001b[0m eta \u001b[36m0:00:00\u001b[0m\n",
            "\u001b[2K   \u001b[90m━━━━━━━━━━━━━━━━━━━━━━━━━━━━━━━━━━━━━━━━\u001b[0m \u001b[32m77.9/77.9 kB\u001b[0m \u001b[31m2.6 MB/s\u001b[0m eta \u001b[36m0:00:00\u001b[0m\n",
            "\u001b[2K   \u001b[90m━━━━━━━━━━━━━━━━━━━━━━━━━━━━━━━━━━━━━━━━\u001b[0m \u001b[32m318.9/318.9 kB\u001b[0m \u001b[31m5.7 MB/s\u001b[0m eta \u001b[36m0:00:00\u001b[0m\n",
            "\u001b[2K   \u001b[90m━━━━━━━━━━━━━━━━━━━━━━━━━━━━━━━━━━━━━━━━\u001b[0m \u001b[32m58.3/58.3 kB\u001b[0m \u001b[31m1.0 MB/s\u001b[0m eta \u001b[36m0:00:00\u001b[0m\n",
            "\u001b[?25h"
          ]
        }
      ]
    },
    {
      "cell_type": "markdown",
      "source": [
        "# [platform.openai.com/docs/](https://platform.openai.com/docs/overview)"
      ],
      "metadata": {
        "id": "xI5Puwzc9rMT"
      }
    },
    {
      "cell_type": "code",
      "source": [
        "# Initialize the OpenAI client\n",
        "from openai import OpenAI\n",
        "client = OpenAI(api_key=\"YOUR_API_KEY_HERE\")"
      ],
      "metadata": {
        "id": "Vzh3xiXu9pgD"
      },
      "execution_count": null,
      "outputs": []
    },
    {
      "cell_type": "code",
      "source": [
        "# wrap our agent into a function\n",
        "def image_prompt_agent(user_input):\n",
        "  print(\"\\nWriting prompt...\") # added this for extra info\n",
        "  completion = client.chat.completions.create(\n",
        "    model=\"gpt-4o-mini\",\n",
        "    messages=[\n",
        "      # added a system prompt\n",
        "      {\"role\": \"system\", \"content\": \"You are an expert prompt writer. You specialize in writing descriptive prompts for the AI image tool Stable Diffusion.\"},\n",
        "      {\"role\": \"user\", \"content\": f\"Write a concise prompt for this {user_input}. Always include: 'text saying New Society'. Only output the prompt itself, no extra text.\"}\n",
        "    ]\n",
        "  )\n",
        "  prompt = completion.choices[0].message.content # save output into a variable\n",
        "  print(\"Here's the prompt: \", prompt) # added this\n",
        "  return prompt"
      ],
      "metadata": {
        "id": "h4mg-Zo9-Rdo"
      },
      "execution_count": null,
      "outputs": []
    },
    {
      "cell_type": "markdown",
      "source": [
        "\n",
        "\n",
        "---\n",
        "\n"
      ],
      "metadata": {
        "id": "ik51JaxPzK32"
      }
    },
    {
      "cell_type": "code",
      "source": [
        "# Install the Replicate library\n",
        "!pip install -q replicate"
      ],
      "metadata": {
        "id": "198ajoHVCjxN",
        "colab": {
          "base_uri": "https://localhost:8080/"
        },
        "outputId": "97ba9d44-78d2-43f6-da68-7332d8e968f2"
      },
      "execution_count": null,
      "outputs": [
        {
          "output_type": "stream",
          "name": "stdout",
          "text": [
            "\u001b[?25l   \u001b[90m━━━━━━━━━━━━━━━━━━━━━━━━━━━━━━━━━━━━━━━━\u001b[0m \u001b[32m0.0/45.3 kB\u001b[0m \u001b[31m?\u001b[0m eta \u001b[36m-:--:--\u001b[0m\r\u001b[2K   \u001b[91m━━━━━━━━━━━━━━━━━━━━━━━━━━━━━━━━━━━━\u001b[0m\u001b[90m╺\u001b[0m\u001b[90m━━━\u001b[0m \u001b[32m41.0/45.3 kB\u001b[0m \u001b[31m1.1 MB/s\u001b[0m eta \u001b[36m0:00:01\u001b[0m\r\u001b[2K   \u001b[90m━━━━━━━━━━━━━━━━━━━━━━━━━━━━━━━━━━━━━━━━\u001b[0m \u001b[32m45.3/45.3 kB\u001b[0m \u001b[31m630.7 kB/s\u001b[0m eta \u001b[36m0:00:00\u001b[0m\n",
            "\u001b[?25h"
          ]
        }
      ]
    },
    {
      "cell_type": "markdown",
      "source": [
        "# https://replicate.com/explore"
      ],
      "metadata": {
        "id": "6cdvB4ZSCnMi"
      }
    },
    {
      "cell_type": "code",
      "source": [
        "# Import the necessary modules\n",
        "import os, replicate\n",
        "os.environ[\"REPLICATE_API_TOKEN\"] = \"YOUR_API_KEY_HERE\""
      ],
      "metadata": {
        "id": "TWXkk67-Ck6x"
      },
      "execution_count": null,
      "outputs": []
    },
    {
      "cell_type": "markdown",
      "source": [
        "# https://replicate.com/account/api-token"
      ],
      "metadata": {
        "id": "qIAsW_UZDDxu"
      }
    },
    {
      "cell_type": "code",
      "source": [
        "def generate_image(prompt):\n",
        "    output = replicate.run(\n",
        "        \"stability-ai/stable-diffusion-3\",\n",
        "        input={\n",
        "            \"cfg\": 3.5,\n",
        "            \"steps\": 28,\n",
        "            \"prompt\": prompt,\n",
        "            \"aspect_ratio\": \"1:1\",\n",
        "            \"output_format\": \"png\",\n",
        "            \"output_quality\": 90,\n",
        "            \"negative_prompt\": \"low quality, blurry, pixelated\",\n",
        "            \"prompt_strength\": 0.85\n",
        "        }\n",
        "    )\n",
        "    print(output)"
      ],
      "metadata": {
        "id": "Eg5AeM-yDETA"
      },
      "execution_count": null,
      "outputs": []
    },
    {
      "cell_type": "code",
      "source": [
        "# get user input\n",
        "def get_user_input():\n",
        "  user_input = input(\"Describe what you want the Agent to do: \")\n",
        "  return user_input"
      ],
      "metadata": {
        "id": "KrqUvwqnEA-n"
      },
      "execution_count": null,
      "outputs": []
    },
    {
      "cell_type": "code",
      "source": [
        "# generate_image(get_user_input())"
      ],
      "metadata": {
        "id": "d61y4hiSETGC"
      },
      "execution_count": null,
      "outputs": []
    },
    {
      "cell_type": "code",
      "source": [
        "# user_input = get_user_input()\n",
        "# prompt = call_agent(user_input)\n",
        "# generate_image(prompt)"
      ],
      "metadata": {
        "id": "ZfKdnJc4FL5G"
      },
      "execution_count": null,
      "outputs": []
    },
    {
      "cell_type": "markdown",
      "source": [
        "\n",
        "\n",
        "---\n",
        "\n"
      ],
      "metadata": {
        "id": "w_79-d153XMo"
      }
    },
    {
      "cell_type": "markdown",
      "source": [
        "# https://platform.openai.com/docs/"
      ],
      "metadata": {
        "id": "hoDXvoCo-Huh"
      }
    },
    {
      "cell_type": "code",
      "source": [
        "# DECISON AGENT\n",
        "def decision_agent(user_prompt):\n",
        "    completion = client.chat.completions.create(\n",
        "        model=\"gpt-4\",\n",
        "        messages=[\n",
        "            {\"role\": \"system\", \"content\": \"\"\"You are a decision-making agent. Analyze the user's input and decide whether to use the \"generate_image\" tool or the \"web_browsing\" tool.\n",
        "                                          Output your decision in JSON format with 'reasoning' and 'tool' fields.\n",
        "                                          The JSON should start and end with curly brackets, with no additional text.\n",
        "                                          Example format:\n",
        "                                          {\n",
        "                                            \"reasoning\": \"Thorough explanation for the decision...\",\n",
        "                                            \"tool\": \"generate_image\" or \"web_browsing\".\"\n",
        "                                          }\n",
        "                                          Do NOT output any text other than the JSON.\"\"\"},\n",
        "            {\"role\": \"user\", \"content\": f\"Decide the best tool for this task: {user_input}. Output ONLY the JSON with 'reasoning' and 'tool' fields, nothing else.\"}\n",
        "        ]\n",
        "    )\n",
        "    return completion.choices[0].message.content"
      ],
      "metadata": {
        "id": "UDDa17pZ3Xp5"
      },
      "execution_count": null,
      "outputs": []
    },
    {
      "cell_type": "code",
      "source": [
        "# Example usage\n",
        "result = decision_agent(\"i'd like to visualize how Dubai covered in snow might look like\")\n",
        "print(result)"
      ],
      "metadata": {
        "colab": {
          "base_uri": "https://localhost:8080/"
        },
        "id": "OeTWj1dCBL0u",
        "outputId": "fb400823-d35a-41a1-ea1b-4f95724f29a2"
      },
      "execution_count": null,
      "outputs": [
        {
          "output_type": "stream",
          "name": "stdout",
          "text": [
            "{\n",
            "  \"reasoning\": \"The request implies that the user wants to see an illustration of a 'purple dog'. Therefore, an image generation tool would be the most suitable to create this image.\",\n",
            "  \"tool\": \"generate_image\"\n",
            "}\n"
          ]
        }
      ]
    },
    {
      "cell_type": "code",
      "source": [
        "PERPLEXITY_API_KEY=\"YOUR_API_KEY_HERE\""
      ],
      "metadata": {
        "id": "Vyw4kD4XCGtR"
      },
      "execution_count": null,
      "outputs": []
    },
    {
      "cell_type": "code",
      "source": [
        "perplexity_client = OpenAI(\n",
        "    api_key=PERPLEXITY_API_KEY,\n",
        "    base_url=\"https://api.perplexity.ai\"\n",
        ")"
      ],
      "metadata": {
        "id": "bNRohHEwCKbX"
      },
      "execution_count": null,
      "outputs": []
    },
    {
      "cell_type": "code",
      "source": [
        "# WEB BROWSING TOOLS\n",
        "def web_browsing(query):\n",
        "    print(\"Browsing the web...\")\n",
        "\n",
        "    response = perplexity_client.chat.completions.create(\n",
        "        model=\"llama-3.1-sonar-huge-128k-online\",\n",
        "        messages=[\n",
        "            {\"role\": \"system\", \"content\": \"You are an AI assistant providing information based on web searches.\"},\n",
        "            {\"role\": \"user\", \"content\": query}\n",
        "        ]\n",
        "    )\n",
        "\n",
        "    print(response.choices[0].message.content)"
      ],
      "metadata": {
        "id": "HSKoT4iXBubx"
      },
      "execution_count": null,
      "outputs": []
    },
    {
      "cell_type": "code",
      "source": [
        "# web_browsing(\"what is the meaning of life?\")"
      ],
      "metadata": {
        "id": "IxfXXSfLChpT"
      },
      "execution_count": null,
      "outputs": []
    },
    {
      "cell_type": "code",
      "source": [
        "import json\n",
        "\n",
        "def parse_and_execute(json_string, user_input):\n",
        "    # Parse the JSON string\n",
        "    data = json.loads(json_string)\n",
        "\n",
        "    # Get the tool and reasoning values\n",
        "    tool = data.get('tool')\n",
        "    reasoning = data.get('reasoning')\n",
        "\n",
        "    # Print the tool and reasoning\n",
        "    print(f\"Tool: {tool}\")\n",
        "    print(f\"Reasoning: {reasoning}\")\n",
        "\n",
        "    # Execute the corresponding function based on the tool value\n",
        "    if tool == \"generate_image\":\n",
        "        prompt = image_prompt_agent(user_input)\n",
        "        generate_image(prompt)\n",
        "    elif tool == \"web_browsing\":\n",
        "        web_browsing(user_input)\n",
        "    else:\n",
        "        return f\"Error: Unknown tool '{tool}'\""
      ],
      "metadata": {
        "id": "U3gyZvXmDTp5"
      },
      "execution_count": null,
      "outputs": []
    },
    {
      "cell_type": "code",
      "source": [
        "# putting everything together\n",
        "user_input = get_user_input()\n",
        "decision = decision_agent(user_input)\n",
        "parse_and_execute(decision, user_input)"
      ],
      "metadata": {
        "id": "1pv_XcbqEM6y"
      },
      "execution_count": null,
      "outputs": []
    }
  ]
}